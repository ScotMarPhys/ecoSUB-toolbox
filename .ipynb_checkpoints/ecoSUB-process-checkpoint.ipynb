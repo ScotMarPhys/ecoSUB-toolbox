{
 "cells": [
  {
   "cell_type": "markdown",
   "metadata": {},
   "source": [
    "# Read and plot data from ecoSUB micro"
   ]
  },
  {
   "cell_type": "code",
   "execution_count": 1,
   "metadata": {},
   "outputs": [],
   "source": [
    "import numpy as np\n",
    "import pandas as pd\n",
    "import cmocean\n",
    "import cmocean.cm as cmo\n",
    "import matplotlib.pyplot as plt\n",
    "import os"
   ]
  },
  {
   "cell_type": "code",
   "execution_count": 3,
   "metadata": {},
   "outputs": [
    {
     "name": "stdout",
     "output_type": "stream",
     "text": [
      "C:/ecoSUB C3 GUI/Logs\\20221010\\300434063182400\\20221010_142454_ecosub_state_v2.csv\n"
     ]
    }
   ],
   "source": [
    "path='C:/ecoSUB C3 GUI/Logs'\n",
    "date='20221010'\n",
    "imei='300434063182400'\n",
    "file='20221010_142454_ecosub_state_v2'\n",
    "fname=os.path.join(path,date,imei,file+'.csv')\n",
    "print(fname)"
   ]
  },
  {
   "cell_type": "code",
   "execution_count": 4,
   "metadata": {},
   "outputs": [],
   "source": [
    "mdf = pd.read_csv(fname,sep=';')"
   ]
  },
  {
   "cell_type": "code",
   "execution_count": 5,
   "metadata": {},
   "outputs": [
    {
     "data": {
      "text/html": [
       "<div>\n",
       "<style scoped>\n",
       "    .dataframe tbody tr th:only-of-type {\n",
       "        vertical-align: middle;\n",
       "    }\n",
       "\n",
       "    .dataframe tbody tr th {\n",
       "        vertical-align: top;\n",
       "    }\n",
       "\n",
       "    .dataframe thead th {\n",
       "        text-align: right;\n",
       "    }\n",
       "</style>\n",
       "<table border=\"1\" class=\"dataframe\">\n",
       "  <thead>\n",
       "    <tr style=\"text-align: right;\">\n",
       "      <th></th>\n",
       "      <th>Time</th>\n",
       "      <th>Latitude</th>\n",
       "      <th>Longitude</th>\n",
       "      <th>Depth</th>\n",
       "      <th>Forward Speed</th>\n",
       "      <th>RPM</th>\n",
       "      <th>Heading</th>\n",
       "      <th>Pitch</th>\n",
       "      <th>Roll</th>\n",
       "      <th>Moving mass position</th>\n",
       "      <th>...</th>\n",
       "      <th>Temperature</th>\n",
       "      <th>Conductivity Status</th>\n",
       "      <th>Conductivity</th>\n",
       "      <th>Sound_Velocity Status</th>\n",
       "      <th>Sound_Velocity</th>\n",
       "      <th>Methane Status</th>\n",
       "      <th>Methane</th>\n",
       "      <th>Acoustic Status</th>\n",
       "      <th>Acoustic</th>\n",
       "      <th>Iridium Modem Status</th>\n",
       "    </tr>\n",
       "  </thead>\n",
       "  <tbody>\n",
       "    <tr>\n",
       "      <th>0</th>\n",
       "      <td>1.665412e+09</td>\n",
       "      <td>56.45174</td>\n",
       "      <td>-5.439562</td>\n",
       "      <td>-0.086868</td>\n",
       "      <td>0.0</td>\n",
       "      <td>0</td>\n",
       "      <td>220.5625</td>\n",
       "      <td>-0.75</td>\n",
       "      <td>3.0625</td>\n",
       "      <td>50</td>\n",
       "      <td>...</td>\n",
       "      <td>0</td>\n",
       "      <td>0</td>\n",
       "      <td>0</td>\n",
       "      <td>0</td>\n",
       "      <td>0</td>\n",
       "      <td>0</td>\n",
       "      <td>0</td>\n",
       "      <td>0</td>\n",
       "      <td>0</td>\n",
       "      <td>Idle</td>\n",
       "    </tr>\n",
       "    <tr>\n",
       "      <th>1</th>\n",
       "      <td>1.665412e+09</td>\n",
       "      <td>56.45174</td>\n",
       "      <td>-5.439562</td>\n",
       "      <td>-0.086868</td>\n",
       "      <td>0.0</td>\n",
       "      <td>0</td>\n",
       "      <td>220.5625</td>\n",
       "      <td>-0.75</td>\n",
       "      <td>3.0625</td>\n",
       "      <td>50</td>\n",
       "      <td>...</td>\n",
       "      <td>0</td>\n",
       "      <td>0</td>\n",
       "      <td>0</td>\n",
       "      <td>0</td>\n",
       "      <td>0</td>\n",
       "      <td>0</td>\n",
       "      <td>0</td>\n",
       "      <td>0</td>\n",
       "      <td>0</td>\n",
       "      <td>Idle</td>\n",
       "    </tr>\n",
       "    <tr>\n",
       "      <th>2</th>\n",
       "      <td>1.665412e+09</td>\n",
       "      <td>56.45174</td>\n",
       "      <td>-5.439562</td>\n",
       "      <td>-0.086868</td>\n",
       "      <td>0.0</td>\n",
       "      <td>0</td>\n",
       "      <td>220.5625</td>\n",
       "      <td>-0.75</td>\n",
       "      <td>3.0625</td>\n",
       "      <td>50</td>\n",
       "      <td>...</td>\n",
       "      <td>0</td>\n",
       "      <td>0</td>\n",
       "      <td>0</td>\n",
       "      <td>0</td>\n",
       "      <td>0</td>\n",
       "      <td>0</td>\n",
       "      <td>0</td>\n",
       "      <td>0</td>\n",
       "      <td>0</td>\n",
       "      <td>Idle</td>\n",
       "    </tr>\n",
       "    <tr>\n",
       "      <th>3</th>\n",
       "      <td>1.665412e+09</td>\n",
       "      <td>56.45174</td>\n",
       "      <td>-5.439562</td>\n",
       "      <td>-0.086868</td>\n",
       "      <td>0.0</td>\n",
       "      <td>0</td>\n",
       "      <td>220.5625</td>\n",
       "      <td>-0.75</td>\n",
       "      <td>3.0625</td>\n",
       "      <td>50</td>\n",
       "      <td>...</td>\n",
       "      <td>0</td>\n",
       "      <td>0</td>\n",
       "      <td>0</td>\n",
       "      <td>0</td>\n",
       "      <td>0</td>\n",
       "      <td>0</td>\n",
       "      <td>0</td>\n",
       "      <td>0</td>\n",
       "      <td>0</td>\n",
       "      <td>Idle</td>\n",
       "    </tr>\n",
       "    <tr>\n",
       "      <th>4</th>\n",
       "      <td>1.665412e+09</td>\n",
       "      <td>56.45174</td>\n",
       "      <td>-5.439562</td>\n",
       "      <td>-0.054918</td>\n",
       "      <td>0.0</td>\n",
       "      <td>0</td>\n",
       "      <td>220.5625</td>\n",
       "      <td>-0.75</td>\n",
       "      <td>3.0625</td>\n",
       "      <td>50</td>\n",
       "      <td>...</td>\n",
       "      <td>0</td>\n",
       "      <td>0</td>\n",
       "      <td>0</td>\n",
       "      <td>0</td>\n",
       "      <td>0</td>\n",
       "      <td>0</td>\n",
       "      <td>0</td>\n",
       "      <td>0</td>\n",
       "      <td>0</td>\n",
       "      <td>Idle</td>\n",
       "    </tr>\n",
       "  </tbody>\n",
       "</table>\n",
       "<p>5 rows × 43 columns</p>\n",
       "</div>"
      ],
      "text/plain": [
       "           Time  Latitude  Longitude     Depth  Forward Speed  RPM   Heading  \\\n",
       "0  1.665412e+09  56.45174  -5.439562 -0.086868            0.0    0  220.5625   \n",
       "1  1.665412e+09  56.45174  -5.439562 -0.086868            0.0    0  220.5625   \n",
       "2  1.665412e+09  56.45174  -5.439562 -0.086868            0.0    0  220.5625   \n",
       "3  1.665412e+09  56.45174  -5.439562 -0.086868            0.0    0  220.5625   \n",
       "4  1.665412e+09  56.45174  -5.439562 -0.054918            0.0    0  220.5625   \n",
       "\n",
       "   Pitch    Roll  Moving mass position  ...  Temperature  Conductivity Status  \\\n",
       "0  -0.75  3.0625                    50  ...            0                    0   \n",
       "1  -0.75  3.0625                    50  ...            0                    0   \n",
       "2  -0.75  3.0625                    50  ...            0                    0   \n",
       "3  -0.75  3.0625                    50  ...            0                    0   \n",
       "4  -0.75  3.0625                    50  ...            0                    0   \n",
       "\n",
       "   Conductivity  Sound_Velocity Status  Sound_Velocity  Methane Status  \\\n",
       "0             0                      0               0               0   \n",
       "1             0                      0               0               0   \n",
       "2             0                      0               0               0   \n",
       "3             0                      0               0               0   \n",
       "4             0                      0               0               0   \n",
       "\n",
       "   Methane  Acoustic Status  Acoustic  Iridium Modem Status  \n",
       "0        0                0         0                  Idle  \n",
       "1        0                0         0                  Idle  \n",
       "2        0                0         0                  Idle  \n",
       "3        0                0         0                  Idle  \n",
       "4        0                0         0                  Idle  \n",
       "\n",
       "[5 rows x 43 columns]"
      ]
     },
     "execution_count": 5,
     "metadata": {},
     "output_type": "execute_result"
    }
   ],
   "source": [
    "mdf.head()"
   ]
  },
  {
   "cell_type": "code",
   "execution_count": 10,
   "metadata": {},
   "outputs": [
    {
     "ename": "SyntaxError",
     "evalue": "invalid syntax (<ipython-input-10-90c669b00c5a>, line 1)",
     "output_type": "error",
     "traceback": [
      "\u001b[1;36m  File \u001b[1;32m\"<ipython-input-10-90c669b00c5a>\"\u001b[1;36m, line \u001b[1;32m1\u001b[0m\n\u001b[1;33m    plt.plot(mdf.Forwad Speed)\u001b[0m\n\u001b[1;37m                        ^\u001b[0m\n\u001b[1;31mSyntaxError\u001b[0m\u001b[1;31m:\u001b[0m invalid syntax\n"
     ]
    }
   ],
   "source": [
    "plt.plot(mdf.Forwad Speed)"
   ]
  },
  {
   "cell_type": "code",
   "execution_count": null,
   "metadata": {},
   "outputs": [],
   "source": [
    "cdf=mdf = pd.read_csv('C:\\Users\\SA01LD\\OneDrive - SAMS\\EcoSub\\ecoSUB_NEXUSS\\CastAway\\.csv',sep=';')"
   ]
  },
  {
   "cell_type": "code",
   "execution_count": 7,
   "metadata": {},
   "outputs": [
    {
     "data": {
      "image/png": "[encoded data removed]",
      "text/plain": [
       "<Figure size 432x288 with 2 Axes>"
      ]
     },
     "metadata": {
      "needs_background": "light"
     },
     "output_type": "display_data"
    },
    {
     "data": {
      "text/plain": [
       "<Figure size 432x288 with 0 Axes>"
      ]
     },
     "metadata": {},
     "output_type": "display_data"
    }
   ],
   "source": [
    "# Scatter plot of temperature and salinity\n",
    "x=mdf.Longitude\n",
    "y=mdf.Latitude\n",
    "z=mdf.Depth\n",
    "cz=mdf.Temperature\n",
    "\n",
    "fig = plt.figure()\n",
    "ax = plt.axes(projection='3d')\n",
    "sctt = ax.scatter3D(x, y, z,\n",
    "                    alpha = 1,\n",
    "                    c=cz,\n",
    "                    cmap='cmo.thermal',\n",
    "                    marker ='.')\n",
    " \n",
    "plt.title(\"Temperature\")\n",
    "ax.set_xlabel('X-axis', fontweight ='bold')\n",
    "ax.set_ylabel('Y-axis', fontweight ='bold')\n",
    "ax.set_zlabel('Z-axis', fontweight ='bold')\n",
    "fig.colorbar(sctt, ax = ax, shrink = 0.5, aspect = 5)\n",
    " \n",
    "# show plot\n",
    "plt.show()\n",
    "\n",
    "fname='figures/temperature-py.png'\n",
    "plt.savefig(fname)"
   ]
  },
  {
   "cell_type": "code",
   "execution_count": null,
   "metadata": {},
   "outputs": [],
   "source": []
  }
 ],
 "metadata": {
  "kernelspec": {
   "display_name": "Python 3",
   "language": "python",
   "name": "python3"
  },
  "language_info": {
   "codemirror_mode": {
    "name": "ipython",
    "version": 3
   },
   "file_extension": ".py",
   "mimetype": "text/x-python",
   "name": "python",
   "nbconvert_exporter": "python",
   "pygments_lexer": "ipython3",
   "version": "3.8.5"
  }
 },
 "nbformat": 4,
 "nbformat_minor": 4
}
