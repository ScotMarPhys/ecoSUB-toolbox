{
 "cells": [
  {
   "cell_type": "code",
   "execution_count": null,
   "metadata": {},
   "outputs": [],
   "source": [
    "import pandas as pd\n",
    "import os\n",
    "import matplotlib.pyplot as plt\n",
    "import glob\n",
    "import datetime\n",
    "from cmocean import cm as cmo "
   ]
  },
  {
   "cell_type": "markdown",
   "metadata": {},
   "source": [
    "## Plot current state data"
   ]
  },
  {
   "cell_type": "code",
   "execution_count": null,
   "metadata": {},
   "outputs": [],
   "source": [
    "crntfles=glob.glob(os.path.join('c:/','Users','sa01ld','OneDrive - SAMS','Instruments','EcoSub','milli_data_20221018','*current_state.csv'))\n",
    "\n",
    "for fle in crntfles:\n",
    "    filesize = os.path.getsize(fle)\n",
    "    \n",
    "    # if file has data\n",
    "    if filesize == 0:\n",
    "        continue\n",
    "    else:\n",
    "        df = pd.read_csv(fle,sep=';',header=None,names=[\"Time\",\"Latitude\",\"Longitude\",\"Estimated forward speed\",\n",
    "                                            \"RPM\",\"Heading\",\"Depth\",\"Pitch\",\"Pitch rate\",\"Roll\",\n",
    "                                            \"Rudder angle\",\"Position of the moving mass\",\"Dead reckoner\"])\n",
    "        \n",
    "        # check for bench tests\n",
    "        os.path.splitext(fle)\n",
    "        fstr=os.path.splitext(os.path.basename(fle))\n",
    "        fstr=fstr[0]       \n",
    "        newstr = fstr.split(\"_\")\n",
    "        eco2fl=os.path.join('c:/','Users','sa01ld','OneDrive - SAMS','Instruments','EcoSub','milli_data_20221018',newstr[0]+'_'+newstr[1]+'_'+'ecosub_state_v2.csv')\n",
    "\n",
    "\n",
    "        # Check whether the specified\n",
    "        # path exists or not\n",
    "        isExist = os.path.exists(eco2fl)\n",
    "        if isExist:\n",
    "            ndf = pd.read_csv(eco2fl,sep=';')\n",
    "            mname=ndf['Mission name']\n",
    "            mname=mname[0]\n",
    "        else:\n",
    "            print('No state V2 file!')\n",
    "            mname=['']\n",
    "        \n",
    "        if mname=='bench_test':\n",
    "            continue\n",
    "        else:\n",
    "            fig = plt.figure()\n",
    "            reallat = df.loc[df[\"Dead reckoner\"] == 1, \"Latitude\"]\n",
    "            reallon = df.loc[df[\"Dead reckoner\"] == 1, \"Longitude\"]\n",
    "            estlat = df.loc[df[\"Dead reckoner\"] == 0, \"Latitude\"]\n",
    "            estlon = df.loc[df[\"Dead reckoner\"] == 0, \"Longitude\"]\n",
    "            plt.plot(reallon,reallat,\n",
    "                        color='deepskyblue',\n",
    "                        markersize=6,\n",
    "                        marker='^',\n",
    "                        linestyle='none',\n",
    "                        label='Estimated')\n",
    "            plt.plot(estlat,estlat,\n",
    "                        marker='*',\n",
    "                        color='deeppink',\n",
    "                        markersize=6,\n",
    "                        linestyle='none',\n",
    "                        label='Real')\n",
    "            plt.title(mname)\n",
    "            plt.legend()\n",
    "            plt.show()"
   ]
  }
 ],
 "metadata": {
  "kernelspec": {
   "display_name": "Python 3",
   "language": "python",
   "name": "python3"
  },
  "language_info": {
   "codemirror_mode": {
    "name": "ipython",
    "version": 3
   },
   "file_extension": ".py",
   "mimetype": "text/x-python",
   "name": "python",
   "nbconvert_exporter": "python",
   "pygments_lexer": "ipython3",
   "version": "3.8.5"
  }
 },
 "nbformat": 4,
 "nbformat_minor": 4
}
